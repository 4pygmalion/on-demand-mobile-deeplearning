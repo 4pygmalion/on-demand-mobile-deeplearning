{
 "cells": [
  {
   "cell_type": "code",
   "execution_count": 1,
   "metadata": {},
   "outputs": [],
   "source": [
    "import sys\n",
    "\n",
    "import timeit\n",
    "import tensorflow as tf\n",
    "import numpy as np\n",
    "import pandas as pd\n",
    "\n",
    "from sklearn.model_selection import train_test_split\n",
    "\n",
    "sys.path.append('/home/hoheon/packages/')\n",
    "\n",
    "from utils.keras import get_model_memory_usage\n",
    "from utils.numpy import to_onehot\n",
    "\n",
    "tf.enable_eager_execution()"
   ]
  },
  {
   "cell_type": "code",
   "execution_count": 2,
   "metadata": {},
   "outputs": [
    {
     "name": "stdout",
     "output_type": "stream",
     "text": [
      "(35000, 32, 32, 3) (35000, 10)\n",
      "N classes: 10\n"
     ]
    }
   ],
   "source": [
    "# Given data\n",
    "train, test = tf.keras.datasets.cifar10.load_data()\n",
    "x_train, y_train = train[0], train[1]\n",
    "x_test, y_test = test[0], test[1]\n",
    "\n",
    "x_train, x_val, y_train, y_val = train_test_split(x_train, y_train, test_size=0.3)\n",
    "\n",
    "y_train = to_onehot(y_train, 10).reshape(-1, 10)\n",
    "y_val = to_onehot(y_val, 10).reshape(-1, 10)\n",
    "y_test = to_onehot(y_test, 10).reshape(-1, 10)\n",
    "\n",
    "print(x_train.shape, y_train.shape)\n",
    "print(\"N classes: {}\".format(y_test.shape[-1]))"
   ]
  },
  {
   "cell_type": "markdown",
   "metadata": {},
   "source": [
    "##### Model"
   ]
  },
  {
   "cell_type": "code",
   "execution_count": 3,
   "metadata": {},
   "outputs": [],
   "source": [
    "sub_model = tf.keras.applications.VGG19(include_top=False, input_shape=(32, 32, 3), classes=10, weights=None)\n",
    "sub_model.trainable = False\n",
    "\n",
    "flat = tf.keras.layers.Flatten()(sub_model.layers[-1].output)\n",
    "classify_ = tf.keras.layers.Dense(10, activation='softmax')(flat)\n",
    "model = tf.keras.Model(inputs=sub_model.inputs, outputs=classify_)\n",
    "model.compile(optimizer=tf.keras.optimizers.Adam(0.05), loss='categorical_crossentropy', metrics=['accuracy'])\n"
   ]
  },
  {
   "cell_type": "code",
   "execution_count": 4,
   "metadata": {},
   "outputs": [],
   "source": [
    "model.load_weights('./cache/best_param.hdf5')"
   ]
  },
  {
   "cell_type": "markdown",
   "metadata": {},
   "source": [
    "##### Runtime"
   ]
  },
  {
   "cell_type": "code",
   "execution_count": 5,
   "metadata": {},
   "outputs": [],
   "source": [
    "def layer_runtime(index, batch, model, repeat=150, return_size=False):\n",
    "    '''\n",
    "    Parameters\n",
    "    ----------\n",
    "    index: int:\n",
    "        layer index\n",
    "    model: keras.model\n",
    "    repeate: int\n",
    "    \n",
    "    Return\n",
    "    ------\n",
    "    runtime: [sec, sec, sec...] \n",
    "    dsize: /kbyte\n",
    "    '''\n",
    "    \n",
    "    runtimes = []\n",
    "    for _ in range(repeat):\n",
    "    \n",
    "        front_model = tf.keras.Model(model.input, model.layers[index-1].output)\n",
    "        front_output = front_model(batch)\n",
    "        \n",
    "        start_time = timeit.default_timer()\n",
    "        model.layers[index](front_output)\n",
    "        end_time = timeit.default_timer()\n",
    "        \n",
    "        runtime = end_time - start_time\n",
    "        runtimes.append(runtime)\n",
    "        \n",
    "    if return_size == False:\n",
    "        return runtimes\n",
    "    else:\n",
    "        return_val = model.layers[index](front_output).numpy()\n",
    "            \n",
    "        mem_size = return_val.nbytes / 1024\n",
    "        return runtimes, mem_size\n",
    "\n",
    "\n",
    "resource_consump = dict()\n",
    "\n",
    "for i in range(0, len(model.layers)):\n",
    "    runtimes, d_size = layer_runtime(i, tf.convert_to_tensor(x_train[0:1], dtype='float32'), model, return_size=True)\n",
    "    \n",
    "    l_name = model.layers[i].name\n",
    "    resource_consump[l_name] = {'runtime':runtimes, 'dsize':d_size}"
   ]
  },
  {
   "cell_type": "code",
   "execution_count": 6,
   "metadata": {},
   "outputs": [
    {
     "data": {
      "text/html": [
       "<div>\n",
       "<style scoped>\n",
       "    .dataframe tbody tr th:only-of-type {\n",
       "        vertical-align: middle;\n",
       "    }\n",
       "\n",
       "    .dataframe tbody tr th {\n",
       "        vertical-align: top;\n",
       "    }\n",
       "\n",
       "    .dataframe thead th {\n",
       "        text-align: right;\n",
       "    }\n",
       "</style>\n",
       "<table border=\"1\" class=\"dataframe\">\n",
       "  <thead>\n",
       "    <tr style=\"text-align: right;\">\n",
       "      <th></th>\n",
       "      <th>runtime</th>\n",
       "      <th>layer_name</th>\n",
       "    </tr>\n",
       "  </thead>\n",
       "  <tbody>\n",
       "    <tr>\n",
       "      <th>0</th>\n",
       "      <td>0.000631</td>\n",
       "      <td>input_1</td>\n",
       "    </tr>\n",
       "    <tr>\n",
       "      <th>1</th>\n",
       "      <td>0.000573</td>\n",
       "      <td>input_1</td>\n",
       "    </tr>\n",
       "  </tbody>\n",
       "</table>\n",
       "</div>"
      ],
      "text/plain": [
       "    runtime layer_name\n",
       "0  0.000631    input_1\n",
       "1  0.000573    input_1"
      ]
     },
     "execution_count": 6,
     "metadata": {},
     "output_type": "execute_result"
    }
   ],
   "source": [
    "df = []\n",
    "\n",
    "for layer_name in list(resource_consump.keys()):\n",
    "    _df = pd.DataFrame(resource_consump[layer_name]['runtime'])\n",
    "    _df['layer_name'] = layer_name\n",
    "    df.append(_df)\n",
    "    \n",
    "runtimes = pd.concat(df)\n",
    "runtimes.columns = ['runtime', 'layer_name']\n",
    "runtimes.head(2)"
   ]
  },
  {
   "cell_type": "code",
   "execution_count": 7,
   "metadata": {
    "scrolled": true
   },
   "outputs": [
    {
     "data": {
      "text/html": [
       "<div>\n",
       "<style scoped>\n",
       "    .dataframe tbody tr th:only-of-type {\n",
       "        vertical-align: middle;\n",
       "    }\n",
       "\n",
       "    .dataframe tbody tr th {\n",
       "        vertical-align: top;\n",
       "    }\n",
       "\n",
       "    .dataframe thead th {\n",
       "        text-align: right;\n",
       "    }\n",
       "</style>\n",
       "<table border=\"1\" class=\"dataframe\">\n",
       "  <thead>\n",
       "    <tr style=\"text-align: right;\">\n",
       "      <th></th>\n",
       "      <th>layer_name</th>\n",
       "      <th>dsize</th>\n",
       "    </tr>\n",
       "  </thead>\n",
       "  <tbody>\n",
       "    <tr>\n",
       "      <th>0</th>\n",
       "      <td>input_1</td>\n",
       "      <td>0.039062</td>\n",
       "    </tr>\n",
       "    <tr>\n",
       "      <th>1</th>\n",
       "      <td>block1_conv1</td>\n",
       "      <td>256.000000</td>\n",
       "    </tr>\n",
       "  </tbody>\n",
       "</table>\n",
       "</div>"
      ],
      "text/plain": [
       "     layer_name       dsize\n",
       "0       input_1    0.039062\n",
       "1  block1_conv1  256.000000"
      ]
     },
     "execution_count": 7,
     "metadata": {},
     "output_type": "execute_result"
    }
   ],
   "source": [
    "df = []\n",
    "for layer_name in list(resource_consump.keys()):\n",
    "    _dsize = resource_consump[layer_name]['dsize']\n",
    "    df.append([layer_name, _dsize])\n",
    "    \n",
    "d_size = pd.DataFrame(df)\n",
    "d_size.columns = ['layer_name', 'dsize']\n",
    "d_size.head(2)"
   ]
  },
  {
   "cell_type": "code",
   "execution_count": 8,
   "metadata": {
    "scrolled": false
   },
   "outputs": [
    {
     "data": {
      "text/plain": [
       "<matplotlib.axes._subplots.AxesSubplot at 0x84f12eb0>"
      ]
     },
     "execution_count": 8,
     "metadata": {},
     "output_type": "execute_result"
    },
    {
     "data": {
      "image/png": "[encoded data removed]",
      "text/plain": [
       "<Figure size 720x720 with 2 Axes>"
      ]
     },
     "metadata": {
      "needs_background": "light"
     },
     "output_type": "display_data"
    }
   ],
   "source": [
    "import seaborn as sns\n",
    "import matplotlib.pyplot as plt\n",
    "\n",
    "fig, axes = plt.subplots(figsize=(10 ,10))\n",
    "sns.boxplot(y='runtime', x='layer_name', data=runtimes, orient='v')\n",
    "\n",
    "\n",
    "plt.ylim(-0.0001, 0.05)\n",
    "plt.xticks(rotation=80)\n",
    "\n",
    "ax2 = plt.twinx()\n",
    "sns.lineplot(x='layer_name', y='dsize', data=d_size, ax=ax2, markers='*', color='red', linestyle='--')"
   ]
  },
  {
   "cell_type": "code",
   "execution_count": 9,
   "metadata": {},
   "outputs": [],
   "source": [
    "runtimes.to_csv('./cache/device_runtime_batch1.csv', index=False)"
   ]
  },
  {
   "cell_type": "markdown",
   "metadata": {},
   "source": [
    "##### 100 batches"
   ]
  },
  {
   "cell_type": "code",
   "execution_count": 10,
   "metadata": {},
   "outputs": [],
   "source": [
    "def layer_runtime(index, batch, model, repeat=150, return_size=False):\n",
    "    '''\n",
    "    Parameters\n",
    "    ----------\n",
    "    index: int:\n",
    "        layer index\n",
    "    model: keras.model\n",
    "    repeate: int\n",
    "    \n",
    "    Return\n",
    "    ------\n",
    "    runtime: [sec, sec, sec...] \n",
    "    dsize: /kbyte\n",
    "    '''\n",
    "    \n",
    "    runtimes = []\n",
    "    for _ in range(repeat):\n",
    "    \n",
    "        front_model = tf.keras.Model(model.input, model.layers[index-1].output)\n",
    "        front_output = front_model(batch)\n",
    "        \n",
    "        start_time = timeit.default_timer()\n",
    "        model.layers[index](front_output)\n",
    "        end_time = timeit.default_timer()\n",
    "        \n",
    "        runtime = end_time - start_time\n",
    "        runtimes.append(runtime)\n",
    "        \n",
    "    if return_size == False:\n",
    "        return runtimes\n",
    "    else:\n",
    "        return_val = model.layers[index](front_output).numpy()\n",
    "            \n",
    "        mem_size = return_val.nbytes / 1024\n",
    "        return runtimes, mem_size\n",
    "\n",
    "\n",
    "resource_consump = dict()\n",
    "\n",
    "for i in range(0, len(model.layers)):\n",
    "    runtimes, d_size = layer_runtime(i, \n",
    "                                     tf.convert_to_tensor(x_train[0:30], dtype='float32'), \n",
    "                                     model, \n",
    "                                     return_size=True)\n",
    "    \n",
    "    l_name = model.layers[i].name\n",
    "    resource_consump[l_name] = {'runtime':runtimes, 'dsize':d_size}"
   ]
  },
  {
   "cell_type": "code",
   "execution_count": 11,
   "metadata": {},
   "outputs": [
    {
     "data": {
      "text/html": [
       "<div>\n",
       "<style scoped>\n",
       "    .dataframe tbody tr th:only-of-type {\n",
       "        vertical-align: middle;\n",
       "    }\n",
       "\n",
       "    .dataframe tbody tr th {\n",
       "        vertical-align: top;\n",
       "    }\n",
       "\n",
       "    .dataframe thead th {\n",
       "        text-align: right;\n",
       "    }\n",
       "</style>\n",
       "<table border=\"1\" class=\"dataframe\">\n",
       "  <thead>\n",
       "    <tr style=\"text-align: right;\">\n",
       "      <th></th>\n",
       "      <th>runtime</th>\n",
       "      <th>layer_name</th>\n",
       "    </tr>\n",
       "  </thead>\n",
       "  <tbody>\n",
       "    <tr>\n",
       "      <th>0</th>\n",
       "      <td>0.000648</td>\n",
       "      <td>input_1</td>\n",
       "    </tr>\n",
       "    <tr>\n",
       "      <th>1</th>\n",
       "      <td>0.000649</td>\n",
       "      <td>input_1</td>\n",
       "    </tr>\n",
       "  </tbody>\n",
       "</table>\n",
       "</div>"
      ],
      "text/plain": [
       "    runtime layer_name\n",
       "0  0.000648    input_1\n",
       "1  0.000649    input_1"
      ]
     },
     "execution_count": 11,
     "metadata": {},
     "output_type": "execute_result"
    }
   ],
   "source": [
    "df = []\n",
    "\n",
    "for layer_name in list(resource_consump.keys()):\n",
    "    _df = pd.DataFrame(resource_consump[layer_name]['runtime'])\n",
    "    _df['layer_name'] = layer_name\n",
    "    df.append(_df)\n",
    "    \n",
    "runtimes = pd.concat(df)\n",
    "runtimes.columns = ['runtime', 'layer_name']\n",
    "runtimes.head(2)"
   ]
  },
  {
   "cell_type": "code",
   "execution_count": 12,
   "metadata": {
    "scrolled": true
   },
   "outputs": [
    {
     "data": {
      "text/html": [
       "<div>\n",
       "<style scoped>\n",
       "    .dataframe tbody tr th:only-of-type {\n",
       "        vertical-align: middle;\n",
       "    }\n",
       "\n",
       "    .dataframe tbody tr th {\n",
       "        vertical-align: top;\n",
       "    }\n",
       "\n",
       "    .dataframe thead th {\n",
       "        text-align: right;\n",
       "    }\n",
       "</style>\n",
       "<table border=\"1\" class=\"dataframe\">\n",
       "  <thead>\n",
       "    <tr style=\"text-align: right;\">\n",
       "      <th></th>\n",
       "      <th>layer_name</th>\n",
       "      <th>dsize</th>\n",
       "    </tr>\n",
       "  </thead>\n",
       "  <tbody>\n",
       "    <tr>\n",
       "      <th>0</th>\n",
       "      <td>input_1</td>\n",
       "      <td>1.171875</td>\n",
       "    </tr>\n",
       "    <tr>\n",
       "      <th>1</th>\n",
       "      <td>block1_conv1</td>\n",
       "      <td>7680.000000</td>\n",
       "    </tr>\n",
       "  </tbody>\n",
       "</table>\n",
       "</div>"
      ],
      "text/plain": [
       "     layer_name        dsize\n",
       "0       input_1     1.171875\n",
       "1  block1_conv1  7680.000000"
      ]
     },
     "execution_count": 12,
     "metadata": {},
     "output_type": "execute_result"
    }
   ],
   "source": [
    "df = []\n",
    "for layer_name in list(resource_consump.keys()):\n",
    "    _dsize = resource_consump[layer_name]['dsize']\n",
    "    df.append([layer_name, _dsize])\n",
    "    \n",
    "d_size = pd.DataFrame(df)\n",
    "d_size.columns = ['layer_name', 'dsize']\n",
    "d_size.head(2)"
   ]
  },
  {
   "cell_type": "code",
   "execution_count": 13,
   "metadata": {
    "scrolled": false
   },
   "outputs": [
    {
     "data": {
      "text/plain": [
       "<matplotlib.axes._subplots.AxesSubplot at 0x84d35d90>"
      ]
     },
     "execution_count": 13,
     "metadata": {},
     "output_type": "execute_result"
    },
    {
     "data": {
      "image/png": "[encoded data removed]",
      "text/plain": [
       "<Figure size 720x720 with 2 Axes>"
      ]
     },
     "metadata": {
      "needs_background": "light"
     },
     "output_type": "display_data"
    }
   ],
   "source": [
    "import seaborn as sns\n",
    "import matplotlib.pyplot as plt\n",
    "\n",
    "fig, axes = plt.subplots(figsize=(10 ,10))\n",
    "sns.boxplot(y='runtime', x='layer_name', data=runtimes, orient='v')\n",
    "\n",
    "\n",
    "plt.ylim(-0.0001, 0.05)\n",
    "plt.xticks(rotation=80)\n",
    "\n",
    "ax2 = plt.twinx()\n",
    "sns.lineplot(x='layer_name', y='dsize', data=d_size, ax=ax2, markers='*', color='red', linestyle='--')"
   ]
  }
 ],
 "metadata": {
  "kernelspec": {
   "display_name": "Python 3",
   "language": "python",
   "name": "python3"
  },
  "language_info": {
   "codemirror_mode": {
    "name": "ipython",
    "version": 3
   },
   "file_extension": ".py",
   "mimetype": "text/x-python",
   "name": "python",
   "nbconvert_exporter": "python",
   "pygments_lexer": "ipython3",
   "version": "3.6.8"
  }
 },
 "nbformat": 4,
 "nbformat_minor": 4
}
