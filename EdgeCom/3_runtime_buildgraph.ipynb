{
 "cells": [
  {
   "cell_type": "code",
   "execution_count": 2,
   "metadata": {},
   "outputs": [
    {
     "name": "stdout",
     "output_type": "stream",
     "text": [
      "5.735348455607891\n",
      "0.6762743219733238\n",
      "0.5260863155126572\n",
      "0.4699231032282114\n",
      "0.4648826476186514\n",
      "0.4706816356629133\n",
      "0.4505110662430525\n",
      "0.5378691330552101\n",
      "0.5433270819485188\n",
      "0.6942465212196112\n",
      "0.8119381535798311\n",
      "0.47472140938043594\n",
      "0.5349401477724314\n",
      "0.5214050635695457\n",
      "0.5209070574492216\n",
      "0.4930038247257471\n",
      "0.4656493440270424\n",
      "0.6082704365253448\n",
      "0.9720654226839542\n",
      "0.6722555886954069\n",
      "0.4743973445147276\n",
      "0.4527603518217802\n",
      "0.6447012480348349\n",
      "0.5298986174166203\n",
      "0.46918014623224735\n",
      "0.627577630802989\n",
      "0.9374843761324883\n",
      "0.6340188048779964\n",
      "0.5725229177623987\n",
      "0.5106475464999676\n",
      "0.5039905160665512\n",
      "0.4991019796580076\n",
      "0.47958657890558243\n",
      "0.6147596426308155\n",
      "0.902831619605422\n",
      "0.6935326848179102\n",
      "0.48207193426787853\n",
      "0.5199857521802187\n",
      "0.5163896959275007\n",
      "0.516807310283184\n",
      "0.45168560557067394\n",
      "0.5299108158797026\n",
      "0.8651132211089134\n",
      "0.6822614166885614\n",
      "0.4913446009159088\n",
      "0.46253832057118416\n",
      "0.4646818395704031\n",
      "0.6986528392881155\n",
      "0.45629844069480896\n",
      "0.5137267168611288\n"
     ]
    }
   ],
   "source": [
    "# run time\n",
    "start_time = timeit.default_timer()\n",
    "\n",
    "import tensorflow as tf\n",
    "import numpy as np\n",
    "\n",
    "with tf.device('CPU:0'):\n",
    "    sub_model = tf.keras.applications.VGG19(include_top=False, input_shape=(32, 32, 3), classes=10)\n",
    "    sub_model.trainable = False\n",
    "    flat = tf.keras.layers.Flatten()(sub_model.layers[-1].output)\n",
    "    classify_ = tf.keras.layers.Dense(10, activation='softmax')(flat)\n",
    "    model = tf.keras.Model(inputs=sub_model.inputs, outputs=classify_)\n",
    "    model.load_weights('./cache/best_param.hdf5')\n",
    "\n",
    "end_time = timeit.default_timer()\n",
    "runtime = end_time - start_time\n",
    "\n",
    "print(runtime)"
   ]
  }
 ],
 "metadata": {
  "kernelspec": {
   "display_name": "Python 3",
   "language": "python",
   "name": "python3"
  },
  "language_info": {
   "codemirror_mode": {
    "name": "ipython",
    "version": 3
   },
   "file_extension": ".py",
   "mimetype": "text/x-python",
   "name": "python",
   "nbconvert_exporter": "python",
   "pygments_lexer": "ipython3",
   "version": "3.6.8"
  }
 },
 "nbformat": 4,
 "nbformat_minor": 4
}
